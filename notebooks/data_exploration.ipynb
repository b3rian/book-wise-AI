{
 "cells": [
  {
   "cell_type": "code",
   "execution_count": null,
   "metadata": {
    "vscode": {
     "languageId": "plaintext"
    }
   },
   "outputs": [],
   "source": [
    "import tensorflow as tf\n",
    "import matplotlib.pyplot as plt\n",
    "import numpy as np\n",
    "import seaborn as sns\n",
    "from collections import Counter\n"
   ]
  },
  {
   "cell_type": "markdown",
   "metadata": {},
   "source": [
    "## Load Sample Sentences"
   ]
  },
  {
   "cell_type": "code",
   "execution_count": null,
   "metadata": {
    "vscode": {
     "languageId": "plaintext"
    }
   },
   "outputs": [],
   "source": [
    "# Raw files\n",
    "train_raw = os.path.join(raw_data_dir, \"train.txt\")\n",
    "valid_raw = os.path.join(raw_data_dir, \"valid.txt\")\n",
    "test_raw = os.path.join(raw_data_dir, \"test.txt\")\n",
    "\n",
    "# Cleaned file paths\n",
    "train_clean = os.path.join(clean_data_dir, \"train_clean.txt\")\n",
    "valid_clean = os.path.join(clean_data_dir, \"valid_clean.txt\")\n",
    "test_clean = os.path.join(clean_data_dir, \"test_clean.txt\")\n",
    "\n",
    "with open(train_path, 'r', encoding='utf-8') as f:\n",
    "    lines = f.readlines()\n",
    "\n",
    "print(\"Total lines in train:\", len(lines))\n",
    "print(\"Sample lines:\\n\")\n",
    "for i in range(5):\n",
    "    print(f\"{i+1}: {lines[i].strip()}\")\n"
   ]
  }
 ],
 "metadata": {
  "language_info": {
   "name": "python"
  }
 },
 "nbformat": 4,
 "nbformat_minor": 2
}
