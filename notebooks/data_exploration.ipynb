{
 "cells": [
  {
   "cell_type": "code",
   "execution_count": null,
   "metadata": {
    "vscode": {
     "languageId": "plaintext"
    }
   },
   "outputs": [],
   "source": [
    "import tensorflow as tf\n",
    "import matplotlib.pyplot as plt\n",
    "import numpy as np\n",
    "import seaborn as sns\n",
    "from collections import Counter\n"
   ]
  },
  {
   "cell_type": "markdown",
   "metadata": {},
   "source": [
    "## Load Sample Sentences"
   ]
  },
  {
   "cell_type": "code",
   "execution_count": null,
   "metadata": {
    "vscode": {
     "languageId": "plaintext"
    }
   },
   "outputs": [],
   "source": [
    "# Raw files\n",
    "train_raw = os.path.join(raw_data_dir, \"train.txt\")\n",
    "valid_raw = os.path.join(raw_data_dir, \"valid.txt\")\n",
    "test_raw = os.path.join(raw_data_dir, \"test.txt\")\n",
    "\n",
    "# Cleaned file paths\n",
    "train_clean = os.path.join(clean_data_dir, \"train_clean.txt\")\n",
    "valid_clean = os.path.join(clean_data_dir, \"valid_clean.txt\")\n",
    "test_clean = os.path.join(clean_data_dir, \"test_clean.txt\")\n",
    "\n",
    "with open(train_path, 'r', encoding='utf-8') as f:\n",
    "    lines = f.readlines()\n",
    "\n",
    "print(\"Total lines in train:\", len(lines))\n",
    "print(\"Sample lines:\\n\")\n",
    "for i in range(5):\n",
    "    print(f\"{i+1}: {lines[i].strip()}\")\n"
   ]
  },
  {
   "cell_type": "markdown",
   "metadata": {},
   "source": [
    "## Basic Sentences Statistics"
   ]
  },
  {
   "cell_type": "code",
   "execution_count": null,
   "metadata": {
    "vscode": {
     "languageId": "plaintext"
    }
   },
   "outputs": [],
   "source": [
    "from collections import Counter\n",
    "\n",
    "num_sentences = len(lines)\n",
    "all_words = [word for line in lines for word in line.strip().split()]\n",
    "num_words = len(all_words)\n",
    "unique_words = set(all_words)\n",
    "\n",
    "print(f\"Total sentences: {num_sentences}\")\n",
    "print(f\"Total words: {num_words}\")\n",
    "print(f\"Unique words: {len(unique_words)}\")\n",
    "\n",
    "# Most frequent words\n",
    "word_counts = Counter(all_words)\n",
    "print(\"Top 10 words:\", word_counts.most_common(10))\n"
   ]
  },
  {
   "cell_type": "markdown",
   "metadata": {},
   "source": [
    "## Sentence Length Distributions"
   ]
  },
  {
   "cell_type": "code",
   "execution_count": null,
   "metadata": {
    "vscode": {
     "languageId": "plaintext"
    }
   },
   "outputs": [],
   "source": [
    "import matplotlib.pyplot as plt\n",
    "import seaborn as sns\n",
    "\n",
    "sentence_lengths = [len(line.strip().split()) for line in lines]\n",
    "\n",
    "plt.figure(figsize=(10, 4))\n",
    "sns.histplot(sentence_lengths, bins=30, kde=True)\n",
    "plt.title(\"Sentence Length Distribution (Train Set)\")\n",
    "plt.xlabel(\"Words per Sentence\")\n",
    "plt.ylabel(\"Frequency\")\n",
    "plt.show()\n"
   ]
  },
  {
   "cell_type": "markdown",
   "metadata": {
    "vscode": {
     "languageId": "plaintext"
    }
   },
   "source": [
    "## Vocabulary Inspection"
   ]
  },
  {
   "cell_type": "code",
   "execution_count": null,
   "metadata": {
    "vscode": {
     "languageId": "plaintext"
    }
   },
   "outputs": [],
   "source": [
    "with open(vocab_path, 'r', encoding='utf-8') as f:\n",
    "    vocab = [line.strip() for line in f.readlines()]\n",
    "\n",
    "print(\"Total vocab words:\", len(vocab))\n",
    "print(\"First 20 vocab entries:\", vocab[:20])\n"
   ]
  },
  {
   "cell_type": "markdown",
   "metadata": {},
   "source": [
    "## Token Frequency Distribution"
   ]
  },
  {
   "cell_type": "code",
   "execution_count": null,
   "metadata": {
    "vscode": {
     "languageId": "plaintext"
    }
   },
   "outputs": [],
   "source": [
    "# Load tokenizer from your pipeline\n",
    "tokenizer, _ = build_tokenizer(\"vocab_path\")\n",
    "\n",
    "# Tokenize raw lines and count\n",
    "token_counts = Counter()\n",
    "for line in raw_lines[:10000]:  # Sample first 10k lines for performance\n",
    "    tokens = tokenizer.tokenize(line).numpy().tolist()\n",
    "    token_counts.update(tokens)\n",
    "\n",
    "# Top 20 most frequent tokens\n",
    "top_tokens = token_counts.most_common(20)\n",
    "tokens, freqs = zip(*top_tokens)\n",
    "\n",
    "plt.figure(figsize=(12, 6))\n",
    "sns.barplot(x=list(tokens), y=list(freqs))\n",
    "plt.xticks(rotation=45)\n",
    "plt.title(\"Top 20 Most Frequent Tokens\")\n",
    "plt.xlabel(\"Token ID\")\n",
    "plt.ylabel(\"Frequency\")\n",
    "plt.show()\n",
    "\n"
   ]
  }
 ],
 "metadata": {
  "language_info": {
   "name": "python"
  }
 },
 "nbformat": 4,
 "nbformat_minor": 2
}
